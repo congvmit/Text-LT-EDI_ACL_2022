{
 "cells": [
  {
   "cell_type": "code",
   "execution_count": 1,
   "id": "e0c22d3d-bb63-4c28-b88d-4499174e02bb",
   "metadata": {},
   "outputs": [
    {
     "name": "stderr",
     "output_type": "stream",
     "text": [
      "[nltk_data] Downloading package punkt to /home/tham/nltk_data...\n",
      "[nltk_data]   Package punkt is already up-to-date!\n"
     ]
    }
   ],
   "source": [
    "import pandas as pd\n",
    "import numpy as np\n",
    "import re\n",
    "from keras.preprocessing.text import Tokenizer\n",
    "from keras.preprocessing.sequence import pad_sequences\n",
    "from tensorflow.keras.utils import to_categorical\n",
    "from keras.models import load_model\n",
    "import urllib.request\n",
    "import zipfile\n",
    "import os\n",
    "from keras.models import Sequential\n",
    "from keras.layers import Embedding,Bidirectional,LSTM,GRU,Dense\n",
    "import nltk\n",
    "from nltk.tokenize import word_tokenize\n",
    "import warnings\n",
    "import tensorflow as tf\n",
    "nltk.download('punkt')\n",
    "warnings.filterwarnings('ignore')\n",
    "from sklearn.model_selection import train_test_split"
   ]
  },
  {
   "cell_type": "code",
   "execution_count": 2,
   "id": "eca900af-7658-4e67-a2bf-b5a4e12a3b62",
   "metadata": {},
   "outputs": [],
   "source": [
    "csv_table=pd.read_table('/media/tham/SSD500/Workspace/challenge/train.tsv',sep='\\t')\n",
    "csv_table.to_csv('/media/tham/SSD500/Workspace/challenge/train.csv',index=False)\n",
    "train_df = pd.read_csv(\"/media/tham/SSD500/Workspace/challenge/train.csv\")\n",
    "# train_df, val_df = train_test_split(train_df, test_size=0.2, random_state=2020)\n",
    "# train_df.to_csv('/media/tham/SSD500/Workspace/challenge/train_80.csv', index=False)\n",
    "val_df=pd.read_csv(\"/media/tham/SSD500/Workspace/challenge/dev_with_labels.csv\")"
   ]
  },
  {
   "cell_type": "code",
   "execution_count": 3,
   "id": "4b5bbf62-a02b-4d3b-8162-9a8f239f3826",
   "metadata": {},
   "outputs": [],
   "source": [
    "train_df = pd.read_csv(\"/media/tham/SSD500/Workspace/challenge/train.csv\")\n",
    "x_train =train_df['Text_data']\n",
    "y_train =train_df['Label']\n",
    "test_df = pd.read_csv(\"/media/tham/SSD500/Workspace/challenge/dev_with_labels.csv\")\n",
    "x_test=test_df['Text data']\n",
    "y_test=test_df['Label']"
   ]
  },
  {
   "cell_type": "code",
   "execution_count": 4,
   "id": "92fae649-9755-4083-b1d1-c9074ff37e96",
   "metadata": {},
   "outputs": [],
   "source": [
    "data_train=pd.DataFrame({'Text':x_train,'Emotion':y_train})\n",
    "data_test=pd.DataFrame({'Text':x_test,'Emotion':y_test})\n",
    "data=data_train.append(data_test,ignore_index=True)"
   ]
  },
  {
   "cell_type": "code",
   "execution_count": null,
   "id": "f425b604-447d-45c9-a672-2debf8ef032c",
   "metadata": {
    "tags": []
   },
   "outputs": [],
   "source": []
  },
  {
   "cell_type": "code",
   "execution_count": null,
   "id": "b44f7f0d-9893-46e2-8928-44321d065b25",
   "metadata": {
    "collapsed": true,
    "jupyter": {
     "outputs_hidden": true
    },
    "tags": []
   },
   "outputs": [],
   "source": []
  },
  {
   "cell_type": "code",
   "execution_count": 5,
   "id": "5f4387c7-72b9-4dc8-8e2b-54e6cbf1eaad",
   "metadata": {
    "tags": []
   },
   "outputs": [],
   "source": [
    "def clean_text(data):\n",
    "    data=re.sub(r\"[^a-zA-Z\\d]\", \" \", data)\n",
    "    data=re.sub(r\"(@[\\d\\w\\.]+)\", '', data)\n",
    "    data=word_tokenize(data)\n",
    "    return data\n",
    "\n",
    "texts=[' '.join(clean_text(text)) for text in data.Text]\n",
    "texts_train=[' '.join(clean_text(text)) for text in x_train]\n",
    "texts_test=[' '.join(clean_text(text)) for text in x_test]"
   ]
  },
  {
   "cell_type": "code",
   "execution_count": 6,
   "id": "c62ad633-2276-490e-adb9-589c8b259c3c",
   "metadata": {},
   "outputs": [
    {
     "data": {
      "text/plain": [
       "8891"
      ]
     },
     "execution_count": 6,
     "metadata": {},
     "output_type": "execute_result"
    }
   ],
   "source": [
    "len(data_train)"
   ]
  },
  {
   "cell_type": "code",
   "execution_count": 7,
   "id": "b9fa8727-4155-4de0-ada2-15b96c8e0af3",
   "metadata": {},
   "outputs": [],
   "source": [
    "\n",
    "# data=re.sub(r\"(#[\\d\\w\\.]+)\", '', str(data))"
   ]
  },
  {
   "cell_type": "code",
   "execution_count": 8,
   "id": "11415403-0235-4438-b9dd-6d863a7e7e48",
   "metadata": {},
   "outputs": [],
   "source": [
    "tokenizer=Tokenizer()\n",
    "tokenizer.fit_on_texts(texts)\n",
    "sequence_train=tokenizer.texts_to_sequences(texts_train)\n",
    "sequence_test=tokenizer.texts_to_sequences(texts_test)\n",
    "index_of_words=tokenizer.word_index\n",
    "vocab_size=len(index_of_words)+1"
   ]
  },
  {
   "cell_type": "code",
   "execution_count": 9,
   "id": "54058cb6-0e4d-4656-b9c6-46f559a24b3f",
   "metadata": {},
   "outputs": [],
   "source": [
    "num_classes=3\n",
    "embed_num_dims=300\n",
    "max_seq_len=500\n",
    "class_names=['moderate','not depression','severe']\n",
    "X_train_pad=pad_sequences(sequence_train,maxlen=max_seq_len)\n",
    "X_test_pad=pad_sequences(sequence_test,maxlen=max_seq_len)\n",
    "encoding={'moderate':0,'not depression':1,'severe':2}\n",
    "y_train=[encoding[x] for x in data_train.Emotion]\n",
    "y_test=[encoding[x] for x in data_test.Emotion]\n",
    "y_train=to_categorical(y_train)\n",
    "y_test=to_categorical(y_test) "
   ]
  },
  {
   "cell_type": "code",
   "execution_count": 10,
   "id": "7f2191e4-64af-4239-8f18-14c05c23ab59",
   "metadata": {},
   "outputs": [],
   "source": [
    "def create_embedding_matrix(filepath,word_index,embedding_dim):\n",
    "    vocab_size=len(word_index)+1\n",
    "    embedding_matrix=np.zeros((vocab_size,embedding_dim))\n",
    "    with open(filepath) as f:\n",
    "        for line in f:\n",
    "            word,*vector=line.split()\n",
    "            if word in word_index:\n",
    "                idx=word_index[word]\n",
    "                embedding_matrix[idx] = np.array(vector,dtype=np.float32)[:embedding_dim]\n",
    "    return embedding_matrix\n",
    "fname='/media/tham/SSD500/Workspace/challenge/Emotion/wiki-news-300d-1M.vec'\n",
    "embedd_matrix=create_embedding_matrix(fname,index_of_words,embed_num_dims)"
   ]
  },
  {
   "cell_type": "code",
   "execution_count": 11,
   "id": "67ebc447-c6e6-43c2-a94e-123274152998",
   "metadata": {},
   "outputs": [],
   "source": [
    "import os\n",
    "os.environ['TF_CPP_MIN_LOG_LEVEL'] = '2'\n",
    "embedd_layer=Embedding(vocab_size,embed_num_dims,input_length=max_seq_len,weights=[embedd_matrix],trainable=False)\n",
    "gru_output_size=128\n",
    "bidirectional=True\n",
    "model=Sequential()\n",
    "model.add(embedd_layer)\n",
    "model.add(Bidirectional(GRU(units=gru_output_size,dropout=0.2,recurrent_dropout=0.2)))\n",
    "model.add(Dense(num_classes, activation='softmax'))\n",
    "model.compile(loss='categorical_crossentropy',optimizer='adam',metrics=['accuracy'])"
   ]
  },
  {
   "cell_type": "code",
   "execution_count": 12,
   "id": "3b240513-97a5-4e20-9920-6911c4a1a765",
   "metadata": {},
   "outputs": [
    {
     "name": "stdout",
     "output_type": "stream",
     "text": [
      "Epoch 1/10\n",
      "70/70 [==============================] - 121s 2s/step - loss: 0.8092 - accuracy: 0.6756 - val_loss: 0.9663 - val_accuracy: 0.5592\n",
      "Epoch 2/10\n",
      "70/70 [==============================] - 118s 2s/step - loss: 0.7032 - accuracy: 0.7273 - val_loss: 1.0648 - val_accuracy: 0.5323\n",
      "Epoch 3/10\n",
      "70/70 [==============================] - 119s 2s/step - loss: 0.6366 - accuracy: 0.7581 - val_loss: 1.2170 - val_accuracy: 0.5601\n",
      "Epoch 4/10\n",
      "70/70 [==============================] - 117s 2s/step - loss: 0.5597 - accuracy: 0.7937 - val_loss: 1.0977 - val_accuracy: 0.5623\n",
      "Epoch 5/10\n",
      "70/70 [==============================] - 122s 2s/step - loss: 0.5171 - accuracy: 0.8127 - val_loss: 1.1654 - val_accuracy: 0.5467\n",
      "Epoch 6/10\n",
      "70/70 [==============================] - 121s 2s/step - loss: 0.4817 - accuracy: 0.8328 - val_loss: 1.2032 - val_accuracy: 0.5351\n",
      "Epoch 7/10\n",
      "70/70 [==============================] - 119s 2s/step - loss: 0.4321 - accuracy: 0.8510 - val_loss: 1.3143 - val_accuracy: 0.5211\n",
      "Epoch 8/10\n",
      "70/70 [==============================] - 117s 2s/step - loss: 0.3971 - accuracy: 0.8651 - val_loss: 1.1998 - val_accuracy: 0.5225\n",
      "Epoch 9/10\n",
      "70/70 [==============================] - 126s 2s/step - loss: 0.3652 - accuracy: 0.8743 - val_loss: 1.1812 - val_accuracy: 0.5202\n",
      "Epoch 10/10\n",
      "70/70 [==============================] - 125s 2s/step - loss: 0.3382 - accuracy: 0.8834 - val_loss: 1.1505 - val_accuracy: 0.5338\n"
     ]
    }
   ],
   "source": [
    "batch_size=128\n",
    "epochs=10\n",
    "hist=model.fit(X_train_pad,y_train,batch_size=batch_size,epochs=epochs,validation_data=(X_test_pad,y_test))"
   ]
  },
  {
   "cell_type": "code",
   "execution_count": null,
   "id": "a9510ef5-6565-4d6f-b99d-157ac2b25f8c",
   "metadata": {},
   "outputs": [],
   "source": []
  }
 ],
 "metadata": {
  "kernelspec": {
   "display_name": "Python 3 (ipykernel)",
   "language": "python",
   "name": "python3"
  },
  "language_info": {
   "codemirror_mode": {
    "name": "ipython",
    "version": 3
   },
   "file_extension": ".py",
   "mimetype": "text/x-python",
   "name": "python",
   "nbconvert_exporter": "python",
   "pygments_lexer": "ipython3",
   "version": "3.9.5"
  }
 },
 "nbformat": 4,
 "nbformat_minor": 5
}
